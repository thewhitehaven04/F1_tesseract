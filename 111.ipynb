{
 "cells": [
  {
   "cell_type": "code",
   "execution_count": 1,
   "metadata": {},
   "outputs": [],
   "source": [
    "import pytesseract as pt\n",
    "import sys\n",
    "import os\n",
    "import cv2\n",
    "import numpy as np\n",
    "from Footage_Capture import get_workfolder\n",
    "from matplotlib import pyplot as plt\n",
    "import PIL\n",
    "\n",
    "path = get_workfolder()\n",
    "tempnum = 0\n",
    "\n",
    "class Enhance_Image():\n",
    "\n",
    "    def frame_to_grayscale(frame_path):\n",
    "        grayscale_frame = cv2.imread(frame_path, cv2.IMREAD_GRAYSCALE)\n",
    "        return grayscale_frame\n",
    "\n",
    "    def crop_frame(frame, x0, y0, x1, y1):\n",
    "        cropped_frame = frame[y0:y1, x0:x1]\n",
    "        return cropped_frame\n",
    "\n",
    "    def enhance_image(frame):\n",
    "        enhanced = cv2.inRange(frame, 210, 255)\n",
    "        global tempnum\n",
    "        cv2.imwrite('./test%d.png' % tempnum, frame)\n",
    "        tempnum += 1\n",
    "        return enhanced\n",
    "\n",
    "\n",
    "class Parse_Data():\n",
    "\n",
    "    def __init__(self, folder_name, start_frame, finish_frame, fps=30):\n",
    "        self.folder_name = folder_name\n",
    "        self.start_frame = start_frame\n",
    "        self.finish_frame = finish_frame\n",
    "        self.fps = fps\n",
    "        self.speed_list = []\n",
    "\n",
    "    def get_path(self, frame_number):\n",
    "        frame_path = path + self.folder_name + '//'[:-1] + \\\n",
    "            self.folder_name + 'frame_' + str(frame_number) + '.jpg'\n",
    "        return frame_path\n",
    "\n",
    "    def _get_speed(self, frame):\n",
    "        text = pytesseract.image_to_string(frame)\n",
    "        return text\n",
    "\n",
    "    # def get_grayscales(self):\n",
    "    #     grayscales = []\n",
    "    #     for frame_number in range(self.start_frame, self.finish_frame):\n",
    "    #         path = self.get_path(frame_number)\n",
    "    #         grayscales.append(Enhance_Image.frame_to_grayscale(path))\n",
    "    #     return grayscales\n",
    "\n",
    "    # def get_cropped(self, grayscales, x0, y0, x1, y1):\n",
    "    #     cropped = [Enhance_Image.crop_frame(\n",
    "    #         frame, x0, y0, x1, y1) for frame in grayscales]\n",
    "    #     return cropped\n",
    "\n",
    "    def get_list_of_speeds(self):\n",
    "        for x in range(self.start_frame, self.finish_frame):\n",
    "            path = self.get_path(x)\n",
    "            grayscale = Enhance_Image.frame_to_grayscale(path)\n",
    "            cropped = Enhance_Image.crop_frame(grayscale, 130, 496, 283, 554)\n",
    "            cropped = Enhance_Image.enhance_image(cropped)\n",
    "            self.speed_list.append(self._get_speed(cropped))\n",
    "\n",
    "    def output_to_file(self):\n",
    "        log = open('./log.txt', 'w')\n",
    "        if self.speed_list:\n",
    "            for entry in self.speed_list:\n",
    "                log.write(entry + '\\n')\n",
    "                \n",
    "def temp_path(position, driver, gp, frame_num):\n",
    "    temp = position + '_' + driver + '_' + gp\n",
    "    path = const + temp + '//'[:-1] + temp + 'frame_' + str(frame_num) + '.jpg'\n",
    "    return path\n"
   ]
  },
  {
   "cell_type": "code",
   "execution_count": 2,
   "metadata": {},
   "outputs": [],
   "source": [
    "temp = 'P01_Leclerc_Russia'\n",
    "Leclerc = Parse_Data(temp, 400, 500, fps=50)\n",
    "const = r'/home/german/F1_tesseract/'\n",
    "temp_arg = temp.split('_')\n",
    "lec = temp_path(*temp_arg, 0)\n",
    "input_frame = Enhance_Image.frame_to_grayscale(lec)"
   ]
  },
  {
   "cell_type": "code",
   "execution_count": 3,
   "metadata": {
    "scrolled": true
   },
   "outputs": [
    {
     "name": "stdout",
     "output_type": "stream",
     "text": [
      "\n"
     ]
    },
    {
     "data": {
      "image/png": "[encoded data removed]",
      "text/plain": [
       "<Figure size 432x288 with 1 Axes>"
      ]
     },
     "metadata": {
      "needs_background": "light"
     },
     "output_type": "display_data"
    }
   ],
   "source": [
    "%matplotlib inline\n",
    "cropped_frame = Enhance_Image.crop_frame(input_frame, 110, 490, 305, 558)\n",
    "medblur = cv2.bilateralFilter(cropped_frame, 9, 20, 45)*1.4-30\n",
    "plt.imshow(medblur, cmap = 'gray', vmin = 0, vmax = 255)\n",
    "print(pt.image_to_string(medblur, lang='Formula1'))"
   ]
  },
  {
   "cell_type": "code",
   "execution_count": 76,
   "metadata": {
    "scrolled": true
   },
   "outputs": [],
   "source": [
    "speeds = []\n",
    "for k in range(221,304):\n",
    "    lec = temp_path(*temp_arg, k)\n",
    "    input_frame = Enhance_Image.frame_to_grayscale(lec)\n",
    "    cropped_frame = Enhance_Image.crop_frame(input_frame, 110, 465, 305, 558)\n",
    "    bilateralFilter = cv2.bilateralFilter(cropped_frame, 9, 20, 5)\n",
    "    #cv2.imwrite('eng.Formula1-Regular.exp'+str(k)+'.png', thresh)\n",
    "    speeds.append(pt.image_to_string(bilateralFilter, lang='Formula1'))\n",
    "ft = populate_array(speeds)"
   ]
  },
  {
   "cell_type": "code",
   "execution_count": 77,
   "metadata": {},
   "outputs": [],
   "source": [
    "def populate_array(arr):\n",
    "    \"\"\"Convert the recognized values from str to int.\n",
    "    If the value is not recognized properly, set the corresponding value to zero\"\"\"\n",
    "    arr_2 = []\n",
    "    for entry in arr:\n",
    "        if entry.isdecimal():\n",
    "            arr_2.append(entry)\n",
    "        else:\n",
    "            arr_2.append(0)\n",
    "    return np.array(arr_2, dtype = np.uint16)\n",
    "\n",
    "def get_distance(data, fps):\n",
    "    \"\"\"Get the distance of the lap based on average speeds multiplied by frame times,\n",
    "    calculated as 1/fps\"\"\"\n",
    "    dist = 1/fps\n",
    "    avgs = []\n",
    "    for i in range(1, len(data)):\n",
    "        if avgs:\n",
    "            avgs.append(dist*0.5*(data[i]+data[i-1])*1000/3600+avgs[i-2])\n",
    "        else:\n",
    "            avgs.append(dist*0.5*(data[i]+data[i-1])*1000/3600)\n",
    "    return np.array(avgs, np.float16)\n",
    "\n",
    "def avg_speeds(speeds):\n",
    "    avgspeeds = [] \n",
    "    for i in range(len(speeds)-1):\n",
    "        avgspeeds.append(0.5*(speeds[i+1]+speeds[i]))\n",
    "    return np.array(avgspeeds, np.float16)"
   ]
  },
  {
   "cell_type": "code",
   "execution_count": 83,
   "metadata": {},
   "outputs": [],
   "source": [
    "def plot(driver_name, gp, data):\n",
    "    x = get_distance(ft, 50)\n",
    "    y = interpolate_values(x,avg_speeds(ft))\n",
    "    print(len(x))\n",
    "    print(len(y))\n",
    "    ax.set_xlabel(driver_name)\n",
    "    ax.plot(x,y)\n",
    "    fig.savefig(r'./kekekekekke.png')   "
   ]
  },
  {
   "cell_type": "code",
   "execution_count": 84,
   "metadata": {
    "scrolled": false
   },
   "outputs": [
    {
     "name": "stdout",
     "output_type": "stream",
     "text": [
      "82\n",
      "82\n"
     ]
    }
   ],
   "source": [
    "plot('Leclerc', 'Russia', ft)"
   ]
  },
  {
   "cell_type": "code",
   "execution_count": 79,
   "metadata": {},
   "outputs": [],
   "source": [
    "def interpolate_values(dist, speeds):\n",
    "    for i in range(1,len(speeds)-1):\n",
    "        prev = speeds[i-1]\n",
    "        curr = speeds[i]\n",
    "        succ = speeds[i+1]\n",
    "        if np.abs(curr-prev) and np.abs(succ-curr):\n",
    "            speeds[i]=np.interp(dist[i], dist, speeds)\n",
    "    return speeds"
   ]
  },
  {
   "cell_type": "code",
   "execution_count": 85,
   "metadata": {},
   "outputs": [
    {
     "data": {
      "image/png": "[encoded data removed]",
      "text/plain": [
       "<Figure size 1056x384 with 1 Axes>"
      ]
     },
     "metadata": {
      "needs_background": "light"
     },
     "output_type": "display_data"
    }
   ],
   "source": [
    "fig, ax = plt.subplots(1, 1, dpi = 96, figsize = (11, 4))"
   ]
  },
  {
   "cell_type": "code",
   "execution_count": null,
   "metadata": {},
   "outputs": [],
   "source": []
  }
 ],
 "metadata": {
  "kernelspec": {
   "display_name": "Python 3",
   "language": "python",
   "name": "python3"
  },
  "language_info": {
   "codemirror_mode": {
    "name": "ipython",
    "version": 3
   },
   "file_extension": ".py",
   "mimetype": "text/x-python",
   "name": "python",
   "nbconvert_exporter": "python",
   "pygments_lexer": "ipython3",
   "version": "3.8.1"
  }
 },
 "nbformat": 4,
 "nbformat_minor": 4
}
