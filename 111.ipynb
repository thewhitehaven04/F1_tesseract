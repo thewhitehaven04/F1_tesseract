{
 "cells": [
  {
   "cell_type": "code",
   "execution_count": 1,
   "metadata": {},
   "outputs": [],
   "source": [
    "import pytesseract as pt\n",
    "import sys\n",
    "import os\n",
    "import cv2\n",
    "import numpy as np\n",
    "from Footage_Capture import get_workfolder\n",
    "from matplotlib import pyplot as plt\n",
    "\n",
    "path = get_workfolder()\n",
    "tempnum = 0\n",
    "\n",
    "class Enhance_Image():\n",
    "\n",
    "    def frame_to_grayscale(frame_path):\n",
    "        grayscale_frame = cv2.imread(frame_path, cv2.IMREAD_GRAYSCALE)\n",
    "        return grayscale_frame\n",
    "\n",
    "    def crop_frame(frame, x0, y0, x1, y1):\n",
    "        cropped_frame = frame[y0:y1, x0:x1]\n",
    "        return cropped_frame\n",
    "\n",
    "    def enhance_image(frame):\n",
    "        enhanced = cv2.inRange(frame, 210, 255)\n",
    "        global tempnum\n",
    "        cv2.imwrite('./test%d.png' % tempnum, frame)\n",
    "        tempnum += 1\n",
    "        return enhanced\n",
    "\n",
    "\n",
    "class Parse_Data():\n",
    "\n",
    "    def __init__(self, folder_name, start_frame, finish_frame, fps=30):\n",
    "        self.folder_name = folder_name\n",
    "        self.start_frame = start_frame\n",
    "        self.finish_frame = finish_frame\n",
    "        self.fps = fps\n",
    "        self.speed_list = []\n",
    "\n",
    "    def get_path(self, frame_number):\n",
    "        frame_path = path + self.folder_name + '//'[:-1] + \\\n",
    "            self.folder_name + 'frame_' + str(frame_number) + '.jpg'\n",
    "        return frame_path\n",
    "\n",
    "    def _get_speed(self, frame):\n",
    "        text = pytesseract.image_to_string(frame)\n",
    "        return text\n",
    "\n",
    "    # def get_grayscales(self):\n",
    "    #     grayscales = []\n",
    "    #     for frame_number in range(self.start_frame, self.finish_frame):\n",
    "    #         path = self.get_path(frame_number)\n",
    "    #         grayscales.append(Enhance_Image.frame_to_grayscale(path))\n",
    "    #     return grayscales\n",
    "\n",
    "    # def get_cropped(self, grayscales, x0, y0, x1, y1):\n",
    "    #     cropped = [Enhance_Image.crop_frame(\n",
    "    #         frame, x0, y0, x1, y1) for frame in grayscales]\n",
    "    #     return cropped\n",
    "\n",
    "    def get_list_of_speeds(self):\n",
    "        for x in range(self.start_frame, self.finish_frame):\n",
    "            path = self.get_path(x)\n",
    "            grayscale = Enhance_Image.frame_to_grayscale(path)\n",
    "            cropped = Enhance_Image.crop_frame(grayscale, 130, 496, 283, 554)\n",
    "            cropped = Enhance_Image.enhance_image(cropped)\n",
    "            self.speed_list.append(self._get_speed(cropped))\n",
    "\n",
    "    def output_to_file(self):\n",
    "        log = open('./log.txt', 'w')\n",
    "        if self.speed_list:\n",
    "            for entry in self.speed_list:\n",
    "                log.write(entry + '\\n')\n",
    "                \n",
    "def temp_path(position, driver, gp, frame_num):\n",
    "    temp = position + '_' + driver + '_' + gp\n",
    "    path = const + temp + '//'[:-1] + temp + 'frame_' + str(frame_num) + '.jpg'\n",
    "    return path\n"
   ]
  },
  {
   "cell_type": "code",
   "execution_count": 2,
   "metadata": {},
   "outputs": [],
   "source": [
    "temp = 'P01_Leclerc_Russia'\n",
    "Leclerc = Parse_Data(temp, 400, 500, fps=50)\n",
    "const = r'/home/german/Downloads/F1/'\n",
    "temp_arg = temp.split('_')\n",
    "lec = temp_path(*temp_arg, 775)\n",
    "input_frame = Enhance_Image.frame_to_grayscale(lec)"
   ]
  },
  {
   "cell_type": "code",
   "execution_count": 3,
   "metadata": {
    "scrolled": true
   },
   "outputs": [
    {
     "name": "stdout",
     "output_type": "stream",
     "text": [
      "321\n"
     ]
    },
    {
     "data": {
      "image/png": "[encoded data removed]",
      "text/plain": [
       "<Figure size 432x288 with 1 Axes>"
      ]
     },
     "metadata": {
      "needs_background": "light"
     },
     "output_type": "display_data"
    }
   ],
   "source": [
    "%matplotlib inline\n",
    "cropped_frame = Enhance_Image.crop_frame(input_frame, 115, 483, 300, 562)\n",
    "bil = cv2.GaussianBlur(cropped_frame, (5,5), 0)\n",
    "blur = cv2.medianBlur(bil, 3)*1.7-65\n",
    "plt.imshow(blur, vmin=0, vmax = 255, cmap='gray')\n",
    "pr_bil = pt.image_to_string(blur)\n",
    "print(pr_bil)"
   ]
  },
  {
   "cell_type": "code",
   "execution_count": 6,
   "metadata": {
    "scrolled": false
   },
   "outputs": [
    {
     "name": "stdout",
     "output_type": "stream",
     "text": [
      "131\n",
      "108\n",
      "128\n",
      "17.9\n",
      "Z;l,9\n",
      "ZgG\n",
      "263\n",
      "275\n",
      "284\n",
      "294\n",
      "304\n",
      "308\n",
      "3.13\n",
      "31.7\n",
      "320\n",
      "323\n",
      "323\n",
      "319\n",
      "128\n",
      "139\n",
      "16.4\n",
      "ZOB\n",
      "233\n",
      "\n",
      "267\n",
      "\n",
      "\n",
      "285\n",
      "286\n",
      "ZS,O\n",
      "286\n",
      "191\n",
      "129\n",
      "Z;.I,O\n",
      "235\n",
      "257\n",
      "ZGB\n",
      "ZZ:I.\n",
      ":I.G:l.\n",
      "153\n",
      "188\n",
      "Zu:lÄ.ng\n",
      "Zgz\n",
      "ZGZ\n",
      "ZZO\n",
      "Z13\n",
      "188\n",
      "Z18\n",
      "245\n",
      "ZG:I.\n",
      "ZOG\n",
      ":l.e:l.\n",
      "Z;l,7\n",
      "243\n",
      "257\n",
      "\n",
      ":I.ZG\n",
      "ZI.G:I.\n",
      "195\n",
      "Z31\n",
      "257\n",
      "ZB,O\n",
      "294\n",
      "305\n",
      "\n",
      "32.0\n",
      "326\n",
      "329\n",
      "328\n",
      "320\n",
      "Zz7\n",
      "131\n",
      ":l.gG\n",
      "123\n",
      "141\n",
      "136\n",
      ":I.GG\n",
      "Zg4\n",
      "233\n",
      "ZI.GO\n",
      "1:.L5\n",
      "110\n",
      ":l.g-Z\n",
      ":l.gz\n",
      "168\n",
      "Zg8\n",
      "236\n",
      "2.57\n",
      "ZgG\n",
      "ZI.GO\n",
      "146\n",
      "186\n",
      "15,3\n",
      "125\n",
      "131\n",
      "1Z4\n",
      "2.1.7\n",
      "244\n",
      "263\n",
      "ZZS\n"
     ]
    }
   ],
   "source": [
    "for k in range(100):\n",
    "    lec = temp_path(*temp_arg, (k+1)*50)\n",
    "    input_frame = Enhance_Image.frame_to_grayscale(lec)\n",
    "    cropped_frame = Enhance_Image.crop_frame(input_frame, 115, 483, 300, 562)\n",
    "    gaussblur = cv2.GaussianBlur(cropped_frame, (5,5), 0)\n",
    "    medblur = cv2.medianBlur(gaussblur, 7)*1.7-55\n",
    "    pr_med = pt.image_to_string(cropped_frame, lang = 'Formula1')\n",
    "    print(pr_med)"
   ]
  },
  {
   "cell_type": "code",
   "execution_count": 5,
   "metadata": {},
   "outputs": [],
   "source": [
    "?cv2.medianBlur"
   ]
  },
  {
   "cell_type": "code",
   "execution_count": null,
   "metadata": {},
   "outputs": [],
   "source": []
  },
  {
   "cell_type": "code",
   "execution_count": null,
   "metadata": {},
   "outputs": [],
   "source": []
  }
 ],
 "metadata": {
  "kernelspec": {
   "display_name": "Python 3",
   "language": "python",
   "name": "python3"
  },
  "language_info": {
   "codemirror_mode": {
    "name": "ipython",
    "version": 3
   },
   "file_extension": ".py",
   "mimetype": "text/x-python",
   "name": "python",
   "nbconvert_exporter": "python",
   "pygments_lexer": "ipython3",
   "version": "3.8.1"
  }
 },
 "nbformat": 4,
 "nbformat_minor": 4
}
