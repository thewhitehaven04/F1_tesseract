{
 "cells": [
  {
   "cell_type": "code",
   "execution_count": 44,
   "metadata": {},
   "outputs": [],
   "source": [
    "import pytesseract\n",
    "import sys\n",
    "import os\n",
    "import cv2\n",
    "import numpy as np\n",
    "from Footage_Capture import get_workfolder\n",
    "\n",
    "path = get_workfolder()\n",
    "tempnum = 0\n",
    "\n",
    "class Enhance_Image():\n",
    "\n",
    "    def frame_to_grayscale(frame_path):\n",
    "        grayscale_frame = np.array(cv2.imread(frame_path, cv2.IMREAD_GRAYSCALE))\n",
    "        return grayscale_frame\n",
    "\n",
    "    def crop_frame(frame, x0, y0, x1, y1):\n",
    "        cropped_frame = frame[y0:y1, x0:x1]\n",
    "        return cropped_frame\n",
    "\n",
    "    def enhance_image(frame):\n",
    "        enhanced = cv2.inRange(frame, 210, 255)\n",
    "        global tempnum\n",
    "        cv2.imwrite('./test%d.png' % tempnum, frame)\n",
    "        tempnum += 1\n",
    "        return enhanced\n",
    "\n",
    "\n",
    "class Parse_Data():\n",
    "\n",
    "    def __init__(self, folder_name, start_frame, finish_frame, fps=30):\n",
    "        self.folder_name = folder_name\n",
    "        self.start_frame = start_frame\n",
    "        self.finish_frame = finish_frame\n",
    "        self.fps = fps\n",
    "        self.speed_list = []\n",
    "\n",
    "    def get_path(self, frame_number):\n",
    "        frame_path = path + self.folder_name + '//'[:-1] + \\\n",
    "            self.folder_name + 'frame_' + str(frame_number) + '.jpg'\n",
    "        return frame_path\n",
    "\n",
    "    def _get_speed(self, frame):\n",
    "        text = pytesseract.image_to_string(frame)\n",
    "        return text\n",
    "\n",
    "    # def get_grayscales(self):\n",
    "    #     grayscales = []\n",
    "    #     for frame_number in range(self.start_frame, self.finish_frame):\n",
    "    #         path = self.get_path(frame_number)\n",
    "    #         grayscales.append(Enhance_Image.frame_to_grayscale(path))\n",
    "    #     return grayscales\n",
    "\n",
    "    # def get_cropped(self, grayscales, x0, y0, x1, y1):\n",
    "    #     cropped = [Enhance_Image.crop_frame(\n",
    "    #         frame, x0, y0, x1, y1) for frame in grayscales]\n",
    "    #     return cropped\n",
    "\n",
    "    def get_list_of_speeds(self):\n",
    "        for x in range(self.start_frame, self.finish_frame):\n",
    "            path = self.get_path(x)\n",
    "            grayscale = Enhance_Image.frame_to_grayscale(path)\n",
    "            cropped = Enhance_Image.crop_frame(grayscale, 130, 496, 283, 554)\n",
    "            cropped = Enhance_Image.enhance_image(cropped)\n",
    "            self.speed_list.append(self._get_speed(cropped))\n",
    "\n",
    "    def output_to_file(self):\n",
    "        log = open('./log.txt', 'w')\n",
    "        if self.speed_list:\n",
    "            for entry in self.speed_list:\n",
    "                log.write(entry + '\\n')"
   ]
  },
  {
   "cell_type": "code",
   "execution_count": 45,
   "metadata": {},
   "outputs": [],
   "source": [
    "Leclerc = Parse_Data('P01_Leclerc_Russia', 400, 500, fps=30)\n",
    "const = r'/home/german/Downloads/F1/'\n",
    "\n",
    "def temp_path(driver, gp, position, frame_num):\n",
    "    temp = position + '_' + driver + '_' + gp\n",
    "    path = const + temp + '//'[:-1] + temp + 'frame_' + str(frame_num) + '.jpg'\n",
    "    return path"
   ]
  },
  {
   "cell_type": "code",
   "execution_count": 46,
   "metadata": {},
   "outputs": [],
   "source": [
    "lec = temp_path('Leclerc', 'Russia', 'P01', 15)"
   ]
  },
  {
   "cell_type": "code",
   "execution_count": 47,
   "metadata": {},
   "outputs": [],
   "source": [
    "input_frame = Enhance_Image.frame_to_grayscale(lec)"
   ]
  },
  {
   "cell_type": "code",
   "execution_count": 49,
   "metadata": {},
   "outputs": [
    {
     "data": {
      "text/plain": [
       "numpy.ndarray"
      ]
     },
     "execution_count": 49,
     "metadata": {},
     "output_type": "execute_result"
    }
   ],
   "source": []
  },
  {
   "cell_type": "code",
   "execution_count": 33,
   "metadata": {},
   "outputs": [],
   "source": [
    "t = cv2.imread('home/german/Downloads/F1/P01_Leclerc_Russia/P01_Leclerc_Russiaframe_15.jpg', cv2.IMREAD_GRAYSCALE)"
   ]
  },
  {
   "cell_type": "code",
   "execution_count": null,
   "metadata": {},
   "outputs": [],
   "source": []
  },
  {
   "cell_type": "code",
   "execution_count": null,
   "metadata": {},
   "outputs": [],
   "source": []
  }
 ],
 "metadata": {
  "kernelspec": {
   "display_name": "Python 3",
   "language": "python",
   "name": "python3"
  },
  "language_info": {
   "codemirror_mode": {
    "name": "ipython",
    "version": 3
   },
   "file_extension": ".py",
   "mimetype": "text/x-python",
   "name": "python",
   "nbconvert_exporter": "python",
   "pygments_lexer": "ipython3",
   "version": "3.8.1"
  }
 },
 "nbformat": 4,
 "nbformat_minor": 4
}
